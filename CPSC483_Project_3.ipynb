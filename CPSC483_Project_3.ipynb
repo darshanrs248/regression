{
 "cells": [
  {
   "cell_type": "code",
   "execution_count": 54,
   "metadata": {},
   "outputs": [],
   "source": [
    "import pandas\n",
    "import sklearn.preprocessing\n",
    "\n",
    "# bank.csv from https://archive.ics.uci.edu/ml/datasets/Bank+Marketing\n",
    "\n",
    "bank = pandas.read_csv('bank.csv', sep=';')\n",
    "\n",
    "# Ordinal features\n",
    "#\n",
    "# Note: month probably shouldn't be ordinal.\n",
    "# Then again, neither should day.\n",
    "\n",
    "boolean = { 'no': 0.0, 'yes': 1.0 }\n",
    "months = {\n",
    "    'jan': 1.0, 'feb': 2.0, 'mar': 3.0, 'apr': 4.0,  'may': 5.0,  'jun': 6.0,\n",
    "    'jul': 7.0, 'aug': 8.0, 'sep': 9.0, 'oct': 10.0, 'nov': 11.0, 'dec': 12.0\n",
    "}\n",
    "\n",
    "bank.replace({\n",
    "    'default': boolean,\n",
    "    'housing': boolean,\n",
    "    'loan':    boolean,\n",
    "    'month':   months,\n",
    "    'y':       boolean\n",
    "}, inplace=True)\n",
    "\n",
    "# Categorical features\n",
    "#\n",
    "# Since we plan to use logistic regression, add drop_first=True\n",
    "# to use dummy instead of one-hot encoding\n",
    "\n",
    "categorical = ['job', 'marital', 'education', 'contact', 'poutcome']\n",
    "bank = pandas.get_dummies(bank, columns=categorical, prefix=categorical, drop_first=True)\n",
    "\n",
    "# Numeric features\n",
    "#\n",
    "# Standardized because we plan to use KNN and SVM \n",
    "\n",
    "scaled = ['age', 'balance', 'day', 'month', 'duration', 'campaign', 'pdays', 'previous']\n",
    "bank[scaled] = sklearn.preprocessing.scale(bank[scaled].astype(float))\n",
    "\n",
    "# Training set and targets\n",
    "\n",
    "X = bank.drop(columns='y').values\n",
    "t = bank['y'].values\n"
   ]
  },
  {
   "cell_type": "code",
   "execution_count": 57,
   "metadata": {},
   "outputs": [
    {
     "name": "stdout",
     "output_type": "stream",
     "text": [
      "[[-1.05626965  0.          0.12107186 ...  0.          0.\n",
      "   1.        ]\n",
      " [-0.77258281  0.          1.1186443  ...  0.          0.\n",
      "   0.        ]\n",
      " [-0.58345826  0.         -0.02414438 ...  0.          0.\n",
      "   0.        ]\n",
      " ...\n",
      " [ 1.49691189  0.         -0.37472364 ...  0.          0.\n",
      "   1.        ]\n",
      " [-1.24539421  0.         -0.09492484 ...  1.          0.\n",
      "   0.        ]\n",
      " [ 0.26760226  0.         -0.09525714 ...  1.          0.\n",
      "   0.        ]]\n"
     ]
    },
    {
     "data": {
      "text/plain": [
       "array([[1.05626965, 0.        , 0.12107186, ..., 0.        , 0.        ,\n",
       "        1.        ],\n",
       "       [0.77258281, 0.        , 1.1186443 , ..., 0.        , 0.        ,\n",
       "        0.        ],\n",
       "       [0.58345826, 0.        , 0.02414438, ..., 0.        , 0.        ,\n",
       "        0.        ],\n",
       "       ...,\n",
       "       [1.49691189, 0.        , 0.37472364, ..., 0.        , 0.        ,\n",
       "        1.        ],\n",
       "       [1.24539421, 0.        , 0.09492484, ..., 1.        , 0.        ,\n",
       "        0.        ],\n",
       "       [0.26760226, 0.        , 0.09525714, ..., 1.        , 0.        ,\n",
       "        0.        ]])"
      ]
     },
     "execution_count": 57,
     "metadata": {},
     "output_type": "execute_result"
    }
   ],
   "source": []
  },
  {
   "cell_type": "code",
   "execution_count": 95,
   "metadata": {},
   "outputs": [
    {
     "name": "stdout",
     "output_type": "stream",
     "text": [
      "0.8906077348066298\n"
     ]
    }
   ],
   "source": [
    "from sklearn.model_selection import train_test_split\n",
    "import numpy as np\n",
    "import pandas as pd\n",
    "from sklearn.naive_bayes import GaussianNB\n",
    "from sklearn.metrics import confusion_matrix\n",
    "from sklearn.naive_bayes import MultinomialNB\n",
    "from sklearn.metrics import accuracy_score\n",
    "\n",
    "data = pd.read_csv(\"bank.csv\")\n",
    "\n",
    "# print(X)\n",
    "# print(t)\n",
    "\n",
    "xTrain, xTest, yTrain, yTest = train_test_split(X, t, test_size = 0.2, random_state = 0)\n",
    "# xTrain = xTrain.values.reshape(-1, 1)\n",
    "# xTest = xTest.values.reshape(-1, 1)\n",
    "# yTrain = yTrain.values.reshape(-1, 1)\n",
    "# yTest = yTest.values.reshape(-1, 1)\n",
    "\n",
    "# print(xTrain)\n",
    "# print(xTest)\n",
    "# print(yTrain)\n",
    "# print(yTest)\n",
    "clf = GaussianNB()\n",
    "clf.fit(xTrain, yTrain)\n",
    "clf.score(X, t)\n",
    "\n",
    "nb = MultinomialNB()\n",
    "nb.fit(abs (xTrain), yTrain)\n",
    "y_pred = nb.predict(xTest)\n",
    "\n",
    "print(accuracy_score(yTest, y_pred))\n",
    "\n",
    "cm= confusion_matrix(yTest, y_pred)"
   ]
  },
  {
   "cell_type": "code",
   "execution_count": 96,
   "metadata": {},
   "outputs": [
    {
     "name": "stdout",
     "output_type": "stream",
     "text": [
      "[[782  11]\n",
      " [ 88  24]]\n"
     ]
    }
   ],
   "source": [
    "print(confusion_matrix(yTest, y_pred))"
   ]
  },
  {
   "cell_type": "code",
   "execution_count": 97,
   "metadata": {},
   "outputs": [
    {
     "name": "stdout",
     "output_type": "stream",
     "text": [
      "              precision    recall  f1-score   support\n",
      "\n",
      "         0.0       0.90      0.99      0.94       793\n",
      "         1.0       0.69      0.21      0.33       112\n",
      "\n",
      "   micro avg       0.89      0.89      0.89       905\n",
      "   macro avg       0.79      0.60      0.63       905\n",
      "weighted avg       0.87      0.89      0.86       905\n",
      "\n"
     ]
    }
   ],
   "source": [
    "from sklearn.metrics import classification_report\n",
    "print(classification_report(yTest, y_pred))"
   ]
  },
  {
   "cell_type": "code",
   "execution_count": 98,
   "metadata": {},
   "outputs": [],
   "source": [
    "y_pred_prob = nb.predict_proba(xTest)[:,1]"
   ]
  },
  {
   "cell_type": "code",
   "execution_count": 99,
   "metadata": {},
   "outputs": [
    {
     "data": {
      "image/png": "[encoded data removed]",
      "text/plain": [
       "<Figure size 432x288 with 1 Axes>"
      ]
     },
     "metadata": {
      "needs_background": "light"
     },
     "output_type": "display_data"
    }
   ],
   "source": [
    "from sklearn.metrics import roc_curve\n",
    "import matplotlib.pyplot as plt\n",
    "\n",
    "fpr, tpr, thresholds = roc_curve(yTest, y_pred_prob)\n",
    "# create plot\n",
    "plt.plot(fpr, tpr, label='ROC curve')\n",
    "plt.plot([0, 1], [0, 1], 'k--', label='Random guess')\n",
    "_ = plt.xlabel('False Positive Rate')\n",
    "_ = plt.ylabel('True Positive Rate')\n",
    "_ = plt.title('ROC Curve')\n",
    "_ = plt.xlim([-0.02, 1])\n",
    "_ = plt.ylim([0, 1.02])\n",
    "_ = plt.legend(loc=\"lower right\")"
   ]
  },
  {
   "cell_type": "code",
   "execution_count": 100,
   "metadata": {},
   "outputs": [
    {
     "data": {
      "text/plain": [
       "0.819784723473248"
      ]
     },
     "execution_count": 100,
     "metadata": {},
     "output_type": "execute_result"
    }
   ],
   "source": [
    "from sklearn.metrics import roc_auc_score\n",
    "roc_auc_score(yTest, y_pred_prob)"
   ]
  },
  {
   "cell_type": "code",
   "execution_count": 101,
   "metadata": {},
   "outputs": [
    {
     "name": "stderr",
     "output_type": "stream",
     "text": [
      "C:\\Users\\darsh\\Anaconda3\\lib\\site-packages\\sklearn\\linear_model\\logistic.py:433: FutureWarning: Default solver will be changed to 'lbfgs' in 0.22. Specify a solver to silence this warning.\n",
      "  FutureWarning)\n"
     ]
    },
    {
     "data": {
      "text/plain": [
       "array([0.])"
      ]
     },
     "execution_count": 101,
     "metadata": {},
     "output_type": "execute_result"
    }
   ],
   "source": [
    "from sklearn.linear_model import LogisticRegression\n",
    "logisticRegr = LogisticRegression(fit_intercept=False)\n",
    "logisticRegr.fit(xTrain, yTrain)\n",
    "logisticRegr.predict(xTest[0].reshape(1,-1))"
   ]
  },
  {
   "cell_type": "code",
   "execution_count": 102,
   "metadata": {},
   "outputs": [],
   "source": [
    "logisticRegr.predict(xTest[0:10])\n",
    "predictions = logisticRegr.predict(xTest)"
   ]
  },
  {
   "cell_type": "code",
   "execution_count": 103,
   "metadata": {},
   "outputs": [
    {
     "name": "stdout",
     "output_type": "stream",
     "text": [
      "0.8950276243093923\n"
     ]
    }
   ],
   "source": [
    "score = logisticRegr.score(xTest, yTest)\n",
    "print(score)"
   ]
  },
  {
   "cell_type": "code",
   "execution_count": null,
   "metadata": {},
   "outputs": [],
   "source": []
  }
 ],
 "metadata": {
  "kernelspec": {
   "display_name": "Python 3",
   "language": "python",
   "name": "python3"
  },
  "language_info": {
   "codemirror_mode": {
    "name": "ipython",
    "version": 3
   },
   "file_extension": ".py",
   "mimetype": "text/x-python",
   "name": "python",
   "nbconvert_exporter": "python",
   "pygments_lexer": "ipython3",
   "version": "3.7.1"
  }
 },
 "nbformat": 4,
 "nbformat_minor": 2
}
